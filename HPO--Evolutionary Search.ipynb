{
 "cells": [
  {
   "cell_type": "code",
   "execution_count": 6,
   "metadata": {},
   "outputs": [
    {
     "name": "stdout",
     "output_type": "stream",
     "text": [
      "Types [1, 2, 2] and maxint [0, 24, 24] detected\n",
      "--- Evolve in 625 possible combinations ---\n",
      "gen\tnevals\tavg     \tmin    \tmax    \tstd     \n",
      "0  \t50    \t0.244374\t0.10128\t0.96828\t0.311521\n",
      "1  \t36    \t0.446667\t0.10128\t0.971063\t0.403786\n",
      "2  \t23    \t0.767902\t0.102393\t0.971063\t0.338239\n",
      "3  \t31    \t0.947067\t0.143016\t0.971063\t0.115085\n",
      "4  \t30    \t0.934257\t0.10128 \t0.971063\t0.165512\n",
      "5  \t19    \t0.968392\t0.96828 \t0.971063\t0.00054524\n",
      "Best individual is: {'kernel': 'rbf', 'C': 5.623413251903491, 'gamma': 0.00017782794100389227}\n",
      "with fitness: 0.9710628825820813\n"
     ]
    },
    {
     "name": "stderr",
     "output_type": "stream",
     "text": [
      "/Users/jimmy/Library/anaconda3/lib/python3.7/site-packages/deap/creator.py:141: RuntimeWarning: A class named 'FitnessMax' has already been created and it will be overwritten. Consider deleting previous creation of that class or rename it.\n",
      "  RuntimeWarning)\n",
      "/Users/jimmy/Library/anaconda3/lib/python3.7/site-packages/deap/creator.py:141: RuntimeWarning: A class named 'Individual' has already been created and it will be overwritten. Consider deleting previous creation of that class or rename it.\n",
      "  RuntimeWarning)\n"
     ]
    }
   ],
   "source": [
    "import sklearn.datasets\n",
    "import numpy as np\n",
    "import random\n",
    "\n",
    "data = sklearn.datasets.load_digits()\n",
    "X = data[\"data\"]\n",
    "y = data[\"target\"]\n",
    "\n",
    "from sklearn.svm import SVC\n",
    "from sklearn.model_selection import StratifiedKFold\n",
    "\n",
    "paramgrid = {\"kernel\": [\"rbf\"],\n",
    "             \"C\"     : np.logspace(-9, 9, num=25, base=10),\n",
    "             \"gamma\" : np.logspace(-9, 9, num=25, base=10)}\n",
    "\n",
    "random.seed(1)\n",
    "\n",
    "from evolutionary_search import EvolutionaryAlgorithmSearchCV\n",
    "cv = EvolutionaryAlgorithmSearchCV(estimator=SVC(),\n",
    "                                   params=paramgrid,\n",
    "                                   scoring=\"accuracy\",\n",
    "                                   cv=StratifiedKFold(n_splits=4),\n",
    "                                   verbose=1,\n",
    "                                   population_size=50,\n",
    "                                   gene_mutation_prob=0.10,\n",
    "                                   gene_crossover_prob=0.5,\n",
    "                                   tournament_size=3,\n",
    "                                   generations_number=5,\n",
    "                                   n_jobs=4)\n",
    "cv.fit(X, y)\n",
    "\n",
    "from evolutionary_search import maximize\n",
    "\n",
    "def func(x, y, m=1., z=False):\n",
    "    return m * (np.exp(-(x**2 + y**2)) + float(z))\n",
    "\n",
    "param_grid = {'x': [-1., 0., 1.], 'y': [-1., 0., 1.], 'z': [True, False]}\n",
    "args = {'m': 1.}\n",
    "best_params, best_score, score_results, _, _ = maximize(func, param_grid, args, verbose=False)"
   ]
  },
  {
   "cell_type": "code",
   "execution_count": null,
   "metadata": {},
   "outputs": [],
   "source": []
  }
 ],
 "metadata": {
  "kernelspec": {
   "display_name": "Python 3",
   "language": "python",
   "name": "python3"
  },
  "language_info": {
   "codemirror_mode": {
    "name": "ipython",
    "version": 3
   },
   "file_extension": ".py",
   "mimetype": "text/x-python",
   "name": "python",
   "nbconvert_exporter": "python",
   "pygments_lexer": "ipython3",
   "version": "3.7.3"
  }
 },
 "nbformat": 4,
 "nbformat_minor": 2
}
